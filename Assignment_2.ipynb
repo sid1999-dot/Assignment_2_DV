{
  "nbformat": 4,
  "nbformat_minor": 0,
  "metadata": {
    "colab": {
      "name": "Assignment_2.ipynb",
      "provenance": [],
      "collapsed_sections": []
    },
    "kernelspec": {
      "name": "python3",
      "display_name": "Python 3"
    },
    "language_info": {
      "name": "python"
    }
  },
  "cells": [
    {
      "cell_type": "markdown",
      "metadata": {
        "id": "PbjkNMWCAXm-"
      },
      "source": [
        "SIDDHARTH BASU\n",
        "\n",
        "DATA VISUALIZATION\n",
        "\n",
        "DAY-2 ASSIGNMENT\n",
        "\n",
        "sbasu868686@gmail.com"
      ]
    },
    {
      "cell_type": "code",
      "metadata": {
        "id": "OKtpDzrIAT7Q"
      },
      "source": [
        "import matplotlib.pyplot as plt\n",
        "import numpy as np\n",
        "import pandas as pd\n",
        "%matplotlib inline\n",
        "import seaborn as sns\n",
        "from numpy.random import randn, randint, uniform, sample\n"
      ],
      "execution_count": 2,
      "outputs": []
    },
    {
      "cell_type": "code",
      "metadata": {
        "id": "kmMq-MBqIIMH"
      },
      "source": [
        "df=pd.DataFrame(randn(10,4), columns=['a','b','c','d'])"
      ],
      "execution_count": 3,
      "outputs": []
    },
    {
      "cell_type": "code",
      "metadata": {
        "colab": {
          "base_uri": "https://localhost:8080/",
          "height": 357
        },
        "id": "s1egHl_JIPKR",
        "outputId": "c7070493-6a38-4c09-fb3c-422e82cf0244"
      },
      "source": [
        "df"
      ],
      "execution_count": 4,
      "outputs": [
        {
          "output_type": "execute_result",
          "data": {
            "text/html": [
              "<div>\n",
              "<style scoped>\n",
              "    .dataframe tbody tr th:only-of-type {\n",
              "        vertical-align: middle;\n",
              "    }\n",
              "\n",
              "    .dataframe tbody tr th {\n",
              "        vertical-align: top;\n",
              "    }\n",
              "\n",
              "    .dataframe thead th {\n",
              "        text-align: right;\n",
              "    }\n",
              "</style>\n",
              "<table border=\"1\" class=\"dataframe\">\n",
              "  <thead>\n",
              "    <tr style=\"text-align: right;\">\n",
              "      <th></th>\n",
              "      <th>a</th>\n",
              "      <th>b</th>\n",
              "      <th>c</th>\n",
              "      <th>d</th>\n",
              "    </tr>\n",
              "  </thead>\n",
              "  <tbody>\n",
              "    <tr>\n",
              "      <th>0</th>\n",
              "      <td>-0.428829</td>\n",
              "      <td>-1.451103</td>\n",
              "      <td>-0.359019</td>\n",
              "      <td>-1.167568</td>\n",
              "    </tr>\n",
              "    <tr>\n",
              "      <th>1</th>\n",
              "      <td>0.000703</td>\n",
              "      <td>0.558808</td>\n",
              "      <td>-0.880810</td>\n",
              "      <td>-0.094345</td>\n",
              "    </tr>\n",
              "    <tr>\n",
              "      <th>2</th>\n",
              "      <td>-2.924953</td>\n",
              "      <td>-1.188383</td>\n",
              "      <td>-0.737165</td>\n",
              "      <td>0.566957</td>\n",
              "    </tr>\n",
              "    <tr>\n",
              "      <th>3</th>\n",
              "      <td>0.518433</td>\n",
              "      <td>0.094663</td>\n",
              "      <td>-0.864050</td>\n",
              "      <td>-0.669425</td>\n",
              "    </tr>\n",
              "    <tr>\n",
              "      <th>4</th>\n",
              "      <td>-1.985058</td>\n",
              "      <td>0.041146</td>\n",
              "      <td>2.034463</td>\n",
              "      <td>-1.102286</td>\n",
              "    </tr>\n",
              "    <tr>\n",
              "      <th>5</th>\n",
              "      <td>0.824138</td>\n",
              "      <td>-0.060899</td>\n",
              "      <td>-0.300487</td>\n",
              "      <td>-0.686539</td>\n",
              "    </tr>\n",
              "    <tr>\n",
              "      <th>6</th>\n",
              "      <td>-1.189627</td>\n",
              "      <td>0.437508</td>\n",
              "      <td>0.441409</td>\n",
              "      <td>2.174869</td>\n",
              "    </tr>\n",
              "    <tr>\n",
              "      <th>7</th>\n",
              "      <td>0.358167</td>\n",
              "      <td>-1.234476</td>\n",
              "      <td>0.258179</td>\n",
              "      <td>0.531350</td>\n",
              "    </tr>\n",
              "    <tr>\n",
              "      <th>8</th>\n",
              "      <td>0.171672</td>\n",
              "      <td>-0.750134</td>\n",
              "      <td>-0.341545</td>\n",
              "      <td>0.154946</td>\n",
              "    </tr>\n",
              "    <tr>\n",
              "      <th>9</th>\n",
              "      <td>-0.053713</td>\n",
              "      <td>0.047938</td>\n",
              "      <td>-0.213609</td>\n",
              "      <td>1.002832</td>\n",
              "    </tr>\n",
              "  </tbody>\n",
              "</table>\n",
              "</div>"
            ],
            "text/plain": [
              "          a         b         c         d\n",
              "0 -0.428829 -1.451103 -0.359019 -1.167568\n",
              "1  0.000703  0.558808 -0.880810 -0.094345\n",
              "2 -2.924953 -1.188383 -0.737165  0.566957\n",
              "3  0.518433  0.094663 -0.864050 -0.669425\n",
              "4 -1.985058  0.041146  2.034463 -1.102286\n",
              "5  0.824138 -0.060899 -0.300487 -0.686539\n",
              "6 -1.189627  0.437508  0.441409  2.174869\n",
              "7  0.358167 -1.234476  0.258179  0.531350\n",
              "8  0.171672 -0.750134 -0.341545  0.154946\n",
              "9 -0.053713  0.047938 -0.213609  1.002832"
            ]
          },
          "metadata": {
            "tags": []
          },
          "execution_count": 4
        }
      ]
    },
    {
      "cell_type": "code",
      "metadata": {
        "colab": {
          "base_uri": "https://localhost:8080/",
          "height": 604
        },
        "id": "9gUCdyu8IRjV",
        "outputId": "12ddf56f-f2a7-47d2-8b24-f257eb15ce33"
      },
      "source": [
        "df.plot(kind='bar',figsize=(10,10))\n",
        "plt.title(\"BAR GRAPH\",color='b')\n",
        "plt.show()"
      ],
      "execution_count": 6,
      "outputs": [
        {
          "output_type": "display_data",
          "data": {
            "image/png": "[encoded data removed]",
            "text/plain": [
              "<Figure size 720x720 with 1 Axes>"
            ]
          },
          "metadata": {
            "tags": [],
            "needs_background": "light"
          }
        }
      ]
    }
  ]
}